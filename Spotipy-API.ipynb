{
 "cells": [
  {
   "cell_type": "code",
   "execution_count": 1,
   "metadata": {},
   "outputs": [],
   "source": [
    "## Following along work in:\n",
    "# https://github.com/codingforentrepreneurs/30-Days-of-Python/blob/master/tutorial-reference/Day%2019/notebooks/4%20-%20Resource-Enabled%20Client.ipynb\n",
    "# https://www.youtube.com/watch?v=xdq6Gz33khQ&ab_channel=CodingEntrepreneurs"
   ]
  },
  {
   "cell_type": "code",
   "execution_count": null,
   "metadata": {},
   "outputs": [],
   "source": [
    "# This worked...\n",
    "# pip install squarify"
   ]
  },
  {
   "cell_type": "code",
   "execution_count": null,
   "metadata": {},
   "outputs": [],
   "source": [
    "# These didn't...\n",
    "# pip install plotly_express==0.4.0\n",
    "# !pip install plotly==4.14.1"
   ]
  },
  {
   "cell_type": "code",
   "execution_count": null,
   "metadata": {},
   "outputs": [],
   "source": [
    "# # These ran endlessly, never timed out, didn't install\n",
    "# import sys\n",
    "# !{sys.executable} -m pip install plotly==4.14.1"
   ]
  },
  {
   "cell_type": "code",
   "execution_count": null,
   "metadata": {},
   "outputs": [],
   "source": [
    "# import plotly\n",
    "# pip freeze"
   ]
  },
  {
   "cell_type": "code",
   "execution_count": null,
   "metadata": {},
   "outputs": [],
   "source": [
    "# Import libraries\n",
    "import base64\n",
    "import requests\n",
    "import datetime\n",
    "from urllib.parse import urlencode\n",
    "import pandas as pd"
   ]
  },
  {
   "cell_type": "code",
   "execution_count": null,
   "metadata": {},
   "outputs": [],
   "source": [
    "# Import graphing libraries\n",
    "import matplotlib.pyplot as plt\n",
    "import squarify # pip install squarify"
   ]
  },
  {
   "cell_type": "code",
   "execution_count": null,
   "metadata": {},
   "outputs": [],
   "source": [
    "# Credentials, having registered your app with Spotify \n",
    "client_id = '9c9266182f5f404483f26ba070ed6e67'\n",
    "client_secret = '0b6abef0cd414ecab0f76088a111c9a6'"
   ]
  },
  {
   "cell_type": "code",
   "execution_count": null,
   "metadata": {},
   "outputs": [],
   "source": [
    "class SpotifyAPI(object):\n",
    "    access_token = None\n",
    "    access_token_expires = datetime.datetime.now()\n",
    "    access_token_did_expire = True\n",
    "    client_id = None\n",
    "    client_secret = None\n",
    "    token_url = 'https://accounts.spotify.com/api/token'\n",
    "    \n",
    "    def __init__(self, client_id, client_secret, *args, **kwargs):\n",
    "        super().__init__(*args, **kwargs)\n",
    "        self.client_id = client_id\n",
    "        self.client_secret = client_secret\n",
    "    \n",
    "    def get_client_credentials(self):\n",
    "        '''\n",
    "        Returns a base64 encoded string (not bytes)\n",
    "        '''\n",
    "        client_id = self.client_id\n",
    "        client_secret = self.client_secret\n",
    "        if client_secret == None or client_id == None:\n",
    "            raise Exception('You must set client_id and client_secret')\n",
    "        client_creds = '{}:{}'.format(client_id, client_secret)\n",
    "        client_creds_b64 = base64.b64encode(client_creds.encode())\n",
    "        return client_creds_b64.decode()\n",
    "    \n",
    "    def get_token_headers(self):\n",
    "        client_creds_b64 = self.get_client_credentials()\n",
    "        return {\n",
    "            'Authorization':'Basic {}'.format(client_creds_b64)\n",
    "        }\n",
    "    \n",
    "    def get_token_data(self):\n",
    "        return {\n",
    "            'grant_type':'client_credentials'\n",
    "        }\n",
    "    \n",
    "    def perform_auth(self):\n",
    "        token_url = self.token_url\n",
    "        token_data = self.get_token_data()\n",
    "        token_headers = self.get_token_headers()\n",
    "        r = requests.post(token_url, data=token_data, headers=token_headers)        \n",
    "        if r.status_code not in range(200, 299):\n",
    "            raise Exception('Could not authenticate client')\n",
    "        data = r.json()\n",
    "        now = datetime.datetime.now()\n",
    "        access_token = data['access_token']\n",
    "        expires_in = data['expires_in'] # seconds\n",
    "        expires = now + datetime.timedelta(seconds=expires_in)\n",
    "        self.access_token = access_token\n",
    "        self.access_token_expires = expires\n",
    "        self.access_token_did_expire = expires < now\n",
    "        return True\n",
    "    \n",
    "    def get_access_token(self):\n",
    "        token = self.access_token\n",
    "        expires = self.access_token_expires\n",
    "        now = datetime.datetime.now()\n",
    "        if expires < now:\n",
    "            self.perform_auth()\n",
    "            return self.get_access_token()\n",
    "        elif token == None:\n",
    "            self.perform_auth()\n",
    "            return self.get_access_token()\n",
    "        return token\n",
    "    \n",
    "    def get_resource_headers(self):\n",
    "        access_token = self.get_access_token()\n",
    "        headers = {\n",
    "            'Authorization': 'Bearer {}'.format(access_token)\n",
    "        }\n",
    "        return headers\n",
    "    \n",
    "    def get_resource(self, lookup_id, resource_type='albums', version='v1'):\n",
    "        endpoint = 'https://api.spotify.com/{}/{}/{}'.format(version, resource_type, lookup_id)\n",
    "        headers = self.get_resource_headers()\n",
    "        r = requests.get(endpoint, headers=headers)\n",
    "        if r.status_code not in range(200, 299):\n",
    "            return {}\n",
    "        return r.json()\n",
    "        \n",
    "    def get_album(self, _id):\n",
    "        return self.get_resource(_id, resource_type='albums')\n",
    "    \n",
    "    def get_artist(self, _id):\n",
    "        return self.get_resource(_id, resource_type='artists')\n",
    "    \n",
    "    def search(self, query, search_type='artist'): # type\n",
    "        headers = self.get_resource_headers()\n",
    "        endpoint = 'https://api.spotify.com/v1/search'\n",
    "        data = urlencode({'q': query, 'type': search_type.lower()})\n",
    "        lookup_url = '{}?{}'.format(endpoint, data)\n",
    "        r = requests.get(lookup_url, headers=headers)\n",
    "        if r.status_code not in range(200, 299):\n",
    "            return {}\n",
    "        return r.json()\n",
    "    "
   ]
  },
  {
   "cell_type": "code",
   "execution_count": null,
   "metadata": {},
   "outputs": [],
   "source": [
    "spotify = SpotifyAPI(client_id, client_secret)"
   ]
  },
  {
   "cell_type": "code",
   "execution_count": null,
   "metadata": {},
   "outputs": [],
   "source": [
    "# query_string = 'A lannister always pays his debts'\n",
    "query_string = 'happy birthday baby'"
   ]
  },
  {
   "cell_type": "code",
   "execution_count": null,
   "metadata": {},
   "outputs": [],
   "source": [
    "# Run search query\n",
    "search_result = spotify.search(query_string, search_type='track')"
   ]
  },
  {
   "cell_type": "code",
   "execution_count": null,
   "metadata": {},
   "outputs": [],
   "source": [
    "artist_dict = {}\n",
    "for i in range(0, len(search_result['tracks']['items'])):\n",
    "    \n",
    "    # Retrieve artist name and id\n",
    "    artist_name = search_result['tracks']['items'][i]['artists'][0]['name']\n",
    "    artist_id = search_result['tracks']['items'][i]['artists'][0]['id']\n",
    "    \n",
    "    # Run function to get followers, genres, etc.\n",
    "    artist_data = spotify.get_artist(artist_id)\n",
    "#     artist_image = artist_data['images']\n",
    "    artist_genres = artist_data['genres']\n",
    "    artist_url = artist_data['external_urls']['spotify']\n",
    "    artist_followers = artist_data['followers']['total']\n",
    "    \n",
    "    # Store in dict\n",
    "    artist_dict[artist_name] = {\n",
    "        'ID':artist_id,\n",
    "        'Genres':artist_genres,\n",
    "        'URL':artist_url,\n",
    "        'Followers':artist_followers}\n",
    "    \n",
    "#     followers = search_result['tracks']['items'][i]['artists'][0]['followers']['total']\n",
    "#     search_result_artists[artist_name] = artist_id\n",
    "#     search_result_artists[artist_name] = {\n",
    "#         'ID':artist_id,\n",
    "#         'Followers':followers}"
   ]
  },
  {
   "cell_type": "code",
   "execution_count": null,
   "metadata": {},
   "outputs": [],
   "source": [
    "# Build list of genres, extracting artist-level genre lists\n",
    "unique_genres = []\n",
    "for artist in artist_dict.keys():\n",
    "    for genre in artist_dict[artist]['Genres']:\n",
    "        if genre not in unique_genres:\n",
    "            unique_genres.append(genre)\n",
    "unique_genres.sort(reverse=False)\n",
    "\n",
    "# Assign new keys for each unique genre\n",
    "for genre in unique_genres:\n",
    "    for artist in artist_dict.keys():\n",
    "        if genre in artist_dict[artist]['Genres']:\n",
    "            artist_dict[artist][genre.title()] = genre.title()"
   ]
  },
  {
   "cell_type": "code",
   "execution_count": null,
   "metadata": {},
   "outputs": [],
   "source": [
    "unique_genres[0:5]"
   ]
  },
  {
   "cell_type": "code",
   "execution_count": null,
   "metadata": {},
   "outputs": [],
   "source": [
    "# First genre listed for each artist\n",
    "for artist in artist_dict.keys():\n",
    "    if artist_dict[artist]['Genres'] == []:\n",
    "        artist_dict[artist]['Primary Genre'] = None\n",
    "    else:\n",
    "        artist_dict[artist]['Primary Genre'] = artist_dict[artist]['Genres'][0]"
   ]
  },
  {
   "cell_type": "code",
   "execution_count": null,
   "metadata": {},
   "outputs": [],
   "source": [
    "artist_primary_genres_df = pd.DataFrame.from_dict(\n",
    "    artist_dict, orient='index')[['Primary Genre', 'Followers']]\n",
    "artist_primary_genres_df.dropna(\n",
    "    subset=['Primary Genre'], inplace=True)\n",
    "artist_primary_genres_df.sort_values(['Followers'],\n",
    "                                     ascending=False,\n",
    "                                     inplace=True)"
   ]
  },
  {
   "cell_type": "code",
   "execution_count": null,
   "metadata": {},
   "outputs": [],
   "source": [
    "artist_primary_genres_df.iloc[0:5]"
   ]
  },
  {
   "cell_type": "code",
   "execution_count": null,
   "metadata": {},
   "outputs": [],
   "source": [
    "# DataFrame showing only unique genre Series\n",
    "artist_genres_df = pd.DataFrame.from_dict(\n",
    "    artist_dict, orient='index').drop(\n",
    "    ['ID', 'Genres', 'URL', 'Followers'], axis=1)"
   ]
  },
  {
   "cell_type": "code",
   "execution_count": null,
   "metadata": {},
   "outputs": [],
   "source": [
    "artist_followers_df = pd.DataFrame.from_dict(\n",
    "    artist_dict, orient='index')[['Followers']]\n",
    "artist_followers_df.sort_values(['Followers'],\n",
    "                                ascending=False,\n",
    "                                inplace=True)"
   ]
  },
  {
   "cell_type": "code",
   "execution_count": null,
   "metadata": {},
   "outputs": [],
   "source": [
    "artist_followers_df.iloc[0:5]"
   ]
  },
  {
   "cell_type": "code",
   "execution_count": null,
   "metadata": {},
   "outputs": [],
   "source": [
    "# Treemap of artists by follower count\n",
    "squarify.plot(sizes=artist_followers_df['Followers'],\n",
    "              label=artist_followers_df[0:5].index,\n",
    "              alpha=0.8)\n",
    "plt.axis('off')\n",
    "plt.show()"
   ]
  },
  {
   "cell_type": "code",
   "execution_count": null,
   "metadata": {},
   "outputs": [],
   "source": [
    "import plotly.express as px"
   ]
  },
  {
   "cell_type": "code",
   "execution_count": null,
   "metadata": {},
   "outputs": [],
   "source": [
    "\n",
    "fig = px.treemap(df, \n",
    "                 path=['Platform', 'Genre'], \n",
    "                 values='Global_Sales',\n",
    "                 color='NA_Sales'\n",
    "                )\n",
    "fig.show()"
   ]
  },
  {
   "cell_type": "code",
   "execution_count": null,
   "metadata": {},
   "outputs": [],
   "source": [
    "# Treemap of artists by genre by follower count\n",
    "squarify.plot(sizes=artist_followers_df['Followers'],\n",
    "              label=artist_followers_df[0:5].index,\n",
    "              alpha=0.8)\n",
    "plt.axis('off')\n",
    "plt.show()"
   ]
  },
  {
   "cell_type": "code",
   "execution_count": null,
   "metadata": {},
   "outputs": [],
   "source": [
    "# https://towardsdatascience.com/treemap-basics-with-python-777e5ed173d0\n",
    "\n",
    "import matplotlib.pyplot as plt\n",
    "import squarify # pip install squarify\n",
    "import pandas as pd\n",
    "\n",
    "sizes = [50, 25, 12, 6]\n",
    "squarify.plot(sizes)\n",
    "plt.show()\n",
    "\n",
    "sizes=[50, 25, 12, 6]\n",
    "label=[\"50\", \"25\", \"12\", \"6\"]\n",
    "squarify.plot(sizes=sizes, label=label, alpha=0.6 )\n",
    "plt.axis('off')\n",
    "plt.show()\n",
    "\n",
    "sizes=[50, 25, 12, 6]\n",
    "label=[\"50\", \"25\", \"12\", \"6\"]\n",
    "color=['red','blue','green','grey']\n",
    "squarify.plot(sizes=sizes, label=label, color=color, alpha=0.6 )\n",
    "plt.axis('off')\n",
    "plt.show()\n",
    "\n",
    "sizes=[50, 25, 12, 6]\n",
    "label=[\"BC 1\", \"OT 1\", \"OT 2\", \"OT 3\"]\n",
    "color=['red','#1C9FB0','#32A0CE','#1C51B0']\n",
    "squarify.plot(sizes=sizes, label=label, color=color, alpha=0.6 )\n",
    "plt.axis('off')\n",
    "plt.show()\n"
   ]
  },
  {
   "cell_type": "code",
   "execution_count": null,
   "metadata": {},
   "outputs": [],
   "source": []
  },
  {
   "cell_type": "code",
   "execution_count": null,
   "metadata": {},
   "outputs": [],
   "source": []
  },
  {
   "cell_type": "code",
   "execution_count": null,
   "metadata": {},
   "outputs": [],
   "source": []
  },
  {
   "cell_type": "code",
   "execution_count": null,
   "metadata": {},
   "outputs": [],
   "source": [
    "artist_dict['Hiss Golden Messenger']"
   ]
  }
 ],
 "metadata": {
  "kernelspec": {
   "display_name": "Python 3",
   "language": "python",
   "name": "python3"
  },
  "language_info": {
   "codemirror_mode": {
    "name": "ipython",
    "version": 3
   },
   "file_extension": ".py",
   "mimetype": "text/x-python",
   "name": "python",
   "nbconvert_exporter": "python",
   "pygments_lexer": "ipython3",
   "version": "3.7.6"
  }
 },
 "nbformat": 4,
 "nbformat_minor": 4
}
